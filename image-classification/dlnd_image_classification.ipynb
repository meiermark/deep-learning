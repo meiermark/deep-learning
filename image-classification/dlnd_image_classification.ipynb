{
 "cells": [
  {
   "cell_type": "markdown",
   "metadata": {
    "collapsed": true
   },
   "source": [
    "# Image Classification\n",
    "In this project, you'll classify images from the [CIFAR-10 dataset](https://www.cs.toronto.edu/~kriz/cifar.html).  The dataset consists of airplanes, dogs, cats, and other objects. You'll preprocess the images, then train a convolutional neural network on all the samples. The images need to be normalized and the labels need to be one-hot encoded.  You'll get to apply what you learned and build a convolutional, max pooling, dropout, and fully connected layers.  At the end, you'll get to see your neural network's predictions on the sample images.\n",
    "## Get the Data\n",
    "Run the following cell to download the [CIFAR-10 dataset for python](https://www.cs.toronto.edu/~kriz/cifar-10-python.tar.gz)."
   ]
  },
  {
   "cell_type": "code",
   "execution_count": 1,
   "metadata": {},
   "outputs": [
    {
     "name": "stderr",
     "output_type": "stream",
     "text": [
      "CIFAR-10 Dataset: 171MB [01:44, 1.64MB/s]                              \n"
     ]
    },
    {
     "name": "stdout",
     "output_type": "stream",
     "text": [
      "All files found!\n"
     ]
    }
   ],
   "source": [
    "\"\"\"\n",
    "DON'T MODIFY ANYTHING IN THIS CELL THAT IS BELOW THIS LINE\n",
    "\"\"\"\n",
    "from urllib.request import urlretrieve\n",
    "from os.path import isfile, isdir\n",
    "from tqdm import tqdm\n",
    "import problem_unittests as tests\n",
    "import tarfile\n",
    "\n",
    "cifar10_dataset_folder_path = 'cifar-10-batches-py'\n",
    "\n",
    "# Use Floyd's cifar-10 dataset if present\n",
    "floyd_cifar10_location = '/input/cifar-10/python.tar.gz'\n",
    "if isfile(floyd_cifar10_location):\n",
    "    tar_gz_path = floyd_cifar10_location\n",
    "else:\n",
    "    tar_gz_path = 'cifar-10-python.tar.gz'\n",
    "\n",
    "class DLProgress(tqdm):\n",
    "    last_block = 0\n",
    "\n",
    "    def hook(self, block_num=1, block_size=1, total_size=None):\n",
    "        self.total = total_size\n",
    "        self.update((block_num - self.last_block) * block_size)\n",
    "        self.last_block = block_num\n",
    "\n",
    "if not isfile(tar_gz_path):\n",
    "    with DLProgress(unit='B', unit_scale=True, miniters=1, desc='CIFAR-10 Dataset') as pbar:\n",
    "        urlretrieve(\n",
    "            'https://www.cs.toronto.edu/~kriz/cifar-10-python.tar.gz',\n",
    "            tar_gz_path,\n",
    "            pbar.hook)\n",
    "\n",
    "if not isdir(cifar10_dataset_folder_path):\n",
    "    with tarfile.open(tar_gz_path) as tar:\n",
    "        tar.extractall()\n",
    "        tar.close()\n",
    "\n",
    "\n",
    "tests.test_folder_path(cifar10_dataset_folder_path)"
   ]
  },
  {
   "cell_type": "markdown",
   "metadata": {},
   "source": [
    "## Explore the Data\n",
    "The dataset is broken into batches to prevent your machine from running out of memory.  The CIFAR-10 dataset consists of 5 batches, named `data_batch_1`, `data_batch_2`, etc.. Each batch contains the labels and images that are one of the following:\n",
    "* airplane\n",
    "* automobile\n",
    "* bird\n",
    "* cat\n",
    "* deer\n",
    "* dog\n",
    "* frog\n",
    "* horse\n",
    "* ship\n",
    "* truck\n",
    "\n",
    "Understanding a dataset is part of making predictions on the data.  Play around with the code cell below by changing the `batch_id` and `sample_id`. The `batch_id` is the id for a batch (1-5). The `sample_id` is the id for a image and label pair in the batch.\n",
    "\n",
    "Ask yourself \"What are all possible labels?\", \"What is the range of values for the image data?\", \"Are the labels in order or random?\".  Answers to questions like these will help you preprocess the data and end up with better predictions."
   ]
  },
  {
   "cell_type": "code",
   "execution_count": 2,
   "metadata": {},
   "outputs": [
    {
     "name": "stdout",
     "output_type": "stream",
     "text": [
      "\n",
      "Stats of batch 1:\n",
      "Samples: 10000\n",
      "Label Counts: {0: 1005, 1: 974, 2: 1032, 3: 1016, 4: 999, 5: 937, 6: 1030, 7: 1001, 8: 1025, 9: 981}\n",
      "First 20 Labels: [6, 9, 9, 4, 1, 1, 2, 7, 8, 3, 4, 7, 7, 2, 9, 9, 9, 3, 2, 6]\n",
      "\n",
      "Example of Image 5:\n",
      "Image - Min Value: 0 Max Value: 252\n",
      "Image - Shape: (32, 32, 3)\n",
      "Label - Label Id: 1 Name: automobile\n"
     ]
    },
    {
     "data": {
      "image/png": "[encoded data removed]",
      "text/plain": [
       "<matplotlib.figure.Figure at 0x7f3e2d890d68>"
      ]
     },
     "metadata": {
      "image/png": {
       "height": 250,
       "width": 253
      }
     },
     "output_type": "display_data"
    }
   ],
   "source": [
    "%matplotlib inline\n",
    "%config InlineBackend.figure_format = 'retina'\n",
    "\n",
    "import helper\n",
    "import numpy as np\n",
    "\n",
    "# Explore the dataset\n",
    "batch_id = 1\n",
    "sample_id = 5\n",
    "helper.display_stats(cifar10_dataset_folder_path, batch_id, sample_id)"
   ]
  },
  {
   "cell_type": "markdown",
   "metadata": {},
   "source": [
    "## Implement Preprocess Functions\n",
    "### Normalize\n",
    "In the cell below, implement the `normalize` function to take in image data, `x`, and return it as a normalized Numpy array. The values should be in the range of 0 to 1, inclusive.  The return object should be the same shape as `x`."
   ]
  },
  {
   "cell_type": "code",
   "execution_count": 3,
   "metadata": {},
   "outputs": [
    {
     "name": "stdout",
     "output_type": "stream",
     "text": [
      "Tests Passed\n"
     ]
    }
   ],
   "source": [
    "def normalize(x):\n",
    "    \"\"\"\n",
    "    Normalize a list of sample image data in the range of 0 to 1\n",
    "    : x: List of image data.  The image shape is (32, 32, 3)\n",
    "    : return: Numpy array of normalize data\n",
    "    \"\"\"\n",
    "    a = np.array(x)\n",
    "    max_value = 255\n",
    "    norm = max_value\n",
    "    a = a / norm\n",
    "    \n",
    "    return a\n",
    "\n",
    "\n",
    "\"\"\"\n",
    "DON'T MODIFY ANYTHING IN THIS CELL THAT IS BELOW THIS LINE\n",
    "\"\"\"\n",
    "tests.test_normalize(normalize)"
   ]
  },
  {
   "cell_type": "markdown",
   "metadata": {},
   "source": [
    "### One-hot encode\n",
    "Just like the previous code cell, you'll be implementing a function for preprocessing.  This time, you'll implement the `one_hot_encode` function. The input, `x`, are a list of labels.  Implement the function to return the list of labels as One-Hot encoded Numpy array.  The possible values for labels are 0 to 9. The one-hot encoding function should return the same encoding for each value between each call to `one_hot_encode`.  Make sure to save the map of encodings outside the function.\n",
    "\n",
    "Hint: Don't reinvent the wheel."
   ]
  },
  {
   "cell_type": "code",
   "execution_count": 4,
   "metadata": {},
   "outputs": [
    {
     "name": "stdout",
     "output_type": "stream",
     "text": [
      "Tests Passed\n"
     ]
    }
   ],
   "source": [
    "MAX_LABELS = 10\n",
    "\n",
    "def one_hot_encode(x):\n",
    "    \"\"\"\n",
    "    One hot encode a list of sample labels. Return a one-hot encoded vector for each label.\n",
    "    : x: List of sample Labels\n",
    "    : return: Numpy array of one-hot encoded labels\n",
    "    \"\"\"\n",
    "\n",
    "    x = np.array(x)\n",
    "    a = np.zeros((x.shape[0], MAX_LABELS))\n",
    "    a[np.arange(x.shape[0]), x] = 1\n",
    "    \n",
    "    return a\n",
    "\n",
    "\"\"\"\n",
    "DON'T MODIFY ANYTHING IN THIS CELL THAT IS BELOW THIS LINE\n",
    "\"\"\"\n",
    "tests.test_one_hot_encode(one_hot_encode)"
   ]
  },
  {
   "cell_type": "markdown",
   "metadata": {},
   "source": [
    "### Randomize Data\n",
    "As you saw from exploring the data above, the order of the samples are randomized.  It doesn't hurt to randomize it again, but you don't need to for this dataset."
   ]
  },
  {
   "cell_type": "markdown",
   "metadata": {},
   "source": [
    "## Preprocess all the data and save it\n",
    "Running the code cell below will preprocess all the CIFAR-10 data and save it to file. The code below also uses 10% of the training data for validation."
   ]
  },
  {
   "cell_type": "code",
   "execution_count": 5,
   "metadata": {
    "collapsed": true
   },
   "outputs": [],
   "source": [
    "\"\"\"\n",
    "DON'T MODIFY ANYTHING IN THIS CELL\n",
    "\"\"\"\n",
    "# Preprocess Training, Validation, and Testing Data\n",
    "helper.preprocess_and_save_data(cifar10_dataset_folder_path, normalize, one_hot_encode)"
   ]
  },
  {
   "cell_type": "markdown",
   "metadata": {},
   "source": [
    "# Check Point\n",
    "This is your first checkpoint.  If you ever decide to come back to this notebook or have to restart the notebook, you can start from here.  The preprocessed data has been saved to disk."
   ]
  },
  {
   "cell_type": "code",
   "execution_count": 6,
   "metadata": {
    "collapsed": true
   },
   "outputs": [],
   "source": [
    "\"\"\"\n",
    "DON'T MODIFY ANYTHING IN THIS CELL\n",
    "\"\"\"\n",
    "import pickle\n",
    "import problem_unittests as tests\n",
    "import helper\n",
    "\n",
    "MAX_LABELS = 10\n",
    "\n",
    "# Load the Preprocessed Validation data\n",
    "valid_features, valid_labels = pickle.load(open('preprocess_validation.p', mode='rb'))"
   ]
  },
  {
   "cell_type": "markdown",
   "metadata": {},
   "source": [
    "## Build the network\n",
    "For the neural network, you'll build each layer into a function.  Most of the code you've seen has been outside of functions. To test your code more thoroughly, we require that you put each layer in a function.  This allows us to give you better feedback and test for simple mistakes using our unittests before you submit your project.\n",
    "\n",
    ">**Note:** If you're finding it hard to dedicate enough time for this course each week, we've provided a small shortcut to this part of the project. In the next couple of problems, you'll have the option to use classes from the [TensorFlow Layers](https://www.tensorflow.org/api_docs/python/tf/layers) or [TensorFlow Layers (contrib)](https://www.tensorflow.org/api_guides/python/contrib.layers) packages to build each layer, except the layers you build in the \"Convolutional and Max Pooling Layer\" section.  TF Layers is similar to Keras's and TFLearn's abstraction to layers, so it's easy to pickup.\n",
    "\n",
    ">However, if you would like to get the most out of this course, try to solve all the problems _without_ using anything from the TF Layers packages. You **can** still use classes from other packages that happen to have the same name as ones you find in TF Layers! For example, instead of using the TF Layers version of the `conv2d` class, [tf.layers.conv2d](https://www.tensorflow.org/api_docs/python/tf/layers/conv2d), you would want to use the TF Neural Network version of `conv2d`, [tf.nn.conv2d](https://www.tensorflow.org/api_docs/python/tf/nn/conv2d). \n",
    "\n",
    "Let's begin!\n",
    "\n",
    "### Input\n",
    "The neural network needs to read the image data, one-hot encoded labels, and dropout keep probability. Implement the following functions\n",
    "* Implement `neural_net_image_input`\n",
    " * Return a [TF Placeholder](https://www.tensorflow.org/api_docs/python/tf/placeholder)\n",
    " * Set the shape using `image_shape` with batch size set to `None`.\n",
    " * Name the TensorFlow placeholder \"x\" using the TensorFlow `name` parameter in the [TF Placeholder](https://www.tensorflow.org/api_docs/python/tf/placeholder).\n",
    "* Implement `neural_net_label_input`\n",
    " * Return a [TF Placeholder](https://www.tensorflow.org/api_docs/python/tf/placeholder)\n",
    " * Set the shape using `n_classes` with batch size set to `None`.\n",
    " * Name the TensorFlow placeholder \"y\" using the TensorFlow `name` parameter in the [TF Placeholder](https://www.tensorflow.org/api_docs/python/tf/placeholder).\n",
    "* Implement `neural_net_keep_prob_input`\n",
    " * Return a [TF Placeholder](https://www.tensorflow.org/api_docs/python/tf/placeholder) for dropout keep probability.\n",
    " * Name the TensorFlow placeholder \"keep_prob\" using the TensorFlow `name` parameter in the [TF Placeholder](https://www.tensorflow.org/api_docs/python/tf/placeholder).\n",
    "\n",
    "These names will be used at the end of the project to load your saved model.\n",
    "\n",
    "Note: `None` for shapes in TensorFlow allow for a dynamic size."
   ]
  },
  {
   "cell_type": "code",
   "execution_count": 7,
   "metadata": {},
   "outputs": [
    {
     "name": "stdout",
     "output_type": "stream",
     "text": [
      "Image Input Tests Passed.\n",
      "Label Input Tests Passed.\n",
      "Keep Prob Tests Passed.\n"
     ]
    }
   ],
   "source": [
    "import tensorflow as tf\n",
    "\n",
    "def neural_net_image_input(image_shape):\n",
    "    \"\"\"\n",
    "    Return a Tensor for a batch of image input\n",
    "    : image_shape: Shape of the images\n",
    "    : return: Tensor for image input.\n",
    "    \"\"\"\n",
    "    x = tf.placeholder(tf.float32,\n",
    "                       shape=(None, image_shape[0], image_shape[1], image_shape[2]),\n",
    "                       name=\"x\")\n",
    "    return x\n",
    "\n",
    "\n",
    "def neural_net_label_input(n_classes):\n",
    "    \"\"\"\n",
    "    Return a Tensor for a batch of label input\n",
    "    : n_classes: Number of classes\n",
    "    : return: Tensor for label input.\n",
    "    \"\"\"\n",
    "    y = tf.placeholder(tf.int32,\n",
    "                       shape=(None, n_classes),\n",
    "                       name=\"y\")\n",
    "    return y\n",
    "\n",
    "\n",
    "def neural_net_keep_prob_input():\n",
    "    \"\"\"\n",
    "    Return a Tensor for keep probability\n",
    "    : return: Tensor for keep probability.\n",
    "    \"\"\"\n",
    "    keep_prob = tf.placeholder(tf.float32,\n",
    "                               name=\"keep_prob\")\n",
    "    \n",
    "    return keep_prob\n",
    "\n",
    "\n",
    "\"\"\"\n",
    "DON'T MODIFY ANYTHING IN THIS CELL THAT IS BELOW THIS LINE\n",
    "\"\"\"\n",
    "tf.reset_default_graph()\n",
    "tests.test_nn_image_inputs(neural_net_image_input)\n",
    "tests.test_nn_label_inputs(neural_net_label_input)\n",
    "tests.test_nn_keep_prob_inputs(neural_net_keep_prob_input)"
   ]
  },
  {
   "cell_type": "markdown",
   "metadata": {},
   "source": [
    "### Convolution and Max Pooling Layer\n",
    "Convolution layers have a lot of success with images. For this code cell, you should implement the function `conv2d_maxpool` to apply convolution then max pooling:\n",
    "* Create the weight and bias using `conv_ksize`, `conv_num_outputs` and the shape of `x_tensor`.\n",
    "* Apply a convolution to `x_tensor` using weight and `conv_strides`.\n",
    " * We recommend you use same padding, but you're welcome to use any padding.\n",
    "* Add bias\n",
    "* Add a nonlinear activation to the convolution.\n",
    "* Apply Max Pooling using `pool_ksize` and `pool_strides`.\n",
    " * We recommend you use same padding, but you're welcome to use any padding.\n",
    "\n",
    "**Note:** You **can't** use [TensorFlow Layers](https://www.tensorflow.org/api_docs/python/tf/layers) or [TensorFlow Layers (contrib)](https://www.tensorflow.org/api_guides/python/contrib.layers) for **this** layer, but you can still use TensorFlow's [Neural Network](https://www.tensorflow.org/api_docs/python/tf/nn) package. You may still use the shortcut option for all the **other** layers."
   ]
  },
  {
   "cell_type": "code",
   "execution_count": 34,
   "metadata": {},
   "outputs": [
    {
     "name": "stdout",
     "output_type": "stream",
     "text": [
      "Tests Passed\n"
     ]
    }
   ],
   "source": [
    "def maxpool(input, ksize, strides, padding='SAME'):\n",
    "    return tf.nn.max_pool(input, \n",
    "                          [1, ksize[0], ksize[1], 1], \n",
    "                          [1, strides[0], strides[1], 1], \n",
    "                          padding=padding)\n",
    "\n",
    "\n",
    "def conv2d(input, num_outputs, ksize, strides, padding='SAME'):\n",
    "    weight = tf.Variable(tf.truncated_normal([ksize[0], \n",
    "                                              ksize[1], \n",
    "                                              input.shape[3].value, \n",
    "                                              num_outputs], stddev=5e-2))\n",
    "    bias = tf.Variable(tf.zeros(num_outputs))\n",
    "    \n",
    "    conv_layer = tf.nn.conv2d(input, weight, \n",
    "                              strides=[1, strides[0], strides[1], 1], \n",
    "                              padding=padding)\n",
    "    conv_layer = tf.nn.bias_add(conv_layer, bias)\n",
    "    \n",
    "    return conv_layer\n",
    "\n",
    "\n",
    "def conv2d_maxpool(x_tensor, conv_num_outputs, conv_ksize, conv_strides, pool_ksize, pool_strides):\n",
    "    \"\"\"\n",
    "    Apply convolution then max pooling to x_tensor\n",
    "    :param x_tensor: TensorFlow Tensor\n",
    "    :param conv_num_outputs: Number of outputs for the convolutional layer\n",
    "    :param conv_ksize: kernal size 2-D Tuple for the convolutional layer\n",
    "    :param conv_strides: Stride 2-D Tuple for convolution\n",
    "    :param pool_ksize: kernal size 2-D Tuple for pool\n",
    "    :param pool_strides: Stride 2-D Tuple for pool\n",
    "    : return: A tensor that represents convolution and max pooling of x_tensor\n",
    "    \"\"\"\n",
    "\n",
    "    conv_layer = conv2d(x_tensor, conv_num_outputs, conv_ksize, conv_strides)\n",
    "    max_pool_layer = maxpool(conv_layer, pool_ksize, pool_strides)\n",
    "    activation = tf.nn.relu(max_pool_layer)\n",
    "    \n",
    "    # suggestion from: http://papers.nips.cc/paper/4824-imagenet-classification-with-deep-convolutional-neural-networks\n",
    "    normalization = tf.nn.lrn(activation, 4, bias=1.0, alpha=0.001 / 9.0, beta=0.75, name='norm1')\n",
    "    \n",
    "    return normalization\n",
    "\n",
    "\n",
    "\"\"\"\n",
    "DON'T MODIFY ANYTHING IN THIS CELL THAT IS BELOW THIS LINE\n",
    "\"\"\"\n",
    "tests.test_con_pool(conv2d_maxpool)"
   ]
  },
  {
   "cell_type": "markdown",
   "metadata": {},
   "source": [
    "### Flatten Layer\n",
    "Implement the `flatten` function to change the dimension of `x_tensor` from a 4-D tensor to a 2-D tensor.  The output should be the shape (*Batch Size*, *Flattened Image Size*). Shortcut option: you can use classes from the [TensorFlow Layers](https://www.tensorflow.org/api_docs/python/tf/layers) or [TensorFlow Layers (contrib)](https://www.tensorflow.org/api_guides/python/contrib.layers) packages for this layer. For more of a challenge, only use other TensorFlow packages."
   ]
  },
  {
   "cell_type": "code",
   "execution_count": 23,
   "metadata": {},
   "outputs": [
    {
     "name": "stdout",
     "output_type": "stream",
     "text": [
      "Tests Passed\n"
     ]
    }
   ],
   "source": [
    "def flatten(x_tensor):\n",
    "    \"\"\"\n",
    "    Flatten x_tensor to (Batch Size, Flattened Image Size)\n",
    "    : x_tensor: A tensor of size (Batch Size, ...), where ... are the image dimensions.\n",
    "    : return: A tensor of size (Batch Size, Flattened Image Size).\n",
    "    \"\"\"\n",
    "    \n",
    "    flat_x = tf.contrib.layers.flatten(x_tensor)\n",
    "    return flat_x\n",
    "\n",
    "\n",
    "\"\"\"\n",
    "DON'T MODIFY ANYTHING IN THIS CELL THAT IS BELOW THIS LINE\n",
    "\"\"\"\n",
    "tests.test_flatten(flatten)"
   ]
  },
  {
   "cell_type": "markdown",
   "metadata": {},
   "source": [
    "### Fully-Connected Layer\n",
    "Implement the `fully_conn` function to apply a fully connected layer to `x_tensor` with the shape (*Batch Size*, *num_outputs*). Shortcut option: you can use classes from the [TensorFlow Layers](https://www.tensorflow.org/api_docs/python/tf/layers) or [TensorFlow Layers (contrib)](https://www.tensorflow.org/api_guides/python/contrib.layers) packages for this layer. For more of a challenge, only use other TensorFlow packages."
   ]
  },
  {
   "cell_type": "code",
   "execution_count": 24,
   "metadata": {},
   "outputs": [
    {
     "name": "stdout",
     "output_type": "stream",
     "text": [
      "Tests Passed\n"
     ]
    }
   ],
   "source": [
    "def fully_conn(x_tensor, num_outputs):\n",
    "    \"\"\"\n",
    "    Apply a fully connected layer to x_tensor using weight and bias\n",
    "    : x_tensor: A 2-D tensor where the first dimension is batch size.\n",
    "    : num_outputs: The number of output that the new tensor should be.\n",
    "    : return: A 2-D tensor where the second dimension is num_outputs.\n",
    "    \"\"\"\n",
    "    \n",
    "#    fc_layer = tf.contrib.layers.fully_connected(x_tensor,\n",
    "#                                                 num_outputs)\n",
    "    \n",
    "    weights = tf.Variable(tf.truncated_normal([x_tensor.shape[1].value, num_outputs], stddev=0.04))\n",
    "    bias = tf.Variable(tf.fill([num_outputs], value=0.1))\n",
    "    \n",
    "    fc_layer = tf.nn.relu(tf.matmul(x_tensor, weights) + bias)\n",
    "    \n",
    "    return fc_layer\n",
    "\n",
    "\n",
    "\"\"\"\n",
    "DON'T MODIFY ANYTHING IN THIS CELL THAT IS BELOW THIS LINE\n",
    "\"\"\"\n",
    "tests.test_fully_conn(fully_conn)"
   ]
  },
  {
   "cell_type": "markdown",
   "metadata": {},
   "source": [
    "### Output Layer\n",
    "Implement the `output` function to apply a fully connected layer to `x_tensor` with the shape (*Batch Size*, *num_outputs*). Shortcut option: you can use classes from the [TensorFlow Layers](https://www.tensorflow.org/api_docs/python/tf/layers) or [TensorFlow Layers (contrib)](https://www.tensorflow.org/api_guides/python/contrib.layers) packages for this layer. For more of a challenge, only use other TensorFlow packages.\n",
    "\n",
    "**Note:** Activation, softmax, or cross entropy should **not** be applied to this."
   ]
  },
  {
   "cell_type": "code",
   "execution_count": 25,
   "metadata": {},
   "outputs": [
    {
     "name": "stdout",
     "output_type": "stream",
     "text": [
      "Tests Passed\n"
     ]
    }
   ],
   "source": [
    "def output(x_tensor, num_outputs):\n",
    "    \"\"\"\n",
    "    Apply a output layer to x_tensor using weight and bias\n",
    "    : x_tensor: A 2-D tensor where the first dimension is batch size.\n",
    "    : num_outputs: The number of output that the new tensor should be.\n",
    "    : return: A 2-D tensor where the second dimension is num_outputs.\n",
    "    \"\"\"\n",
    "    \n",
    "    weights = tf.Variable(tf.truncated_normal([x_tensor.shape[1].value, \n",
    "                                              num_outputs], stddev=0.04))\n",
    "    bias = tf.Variable(tf.fill([num_outputs], value=0.1))\n",
    "    \n",
    "    fc_layer = tf.matmul(x_tensor, weights) + bias\n",
    "\n",
    "#    fc_layer = tf.contrib.layers.fully_connected(x_tensor,\n",
    "#                                                 num_outputs,\n",
    "#                                                 activation_fn=None)\n",
    "    return fc_layer\n",
    "\n",
    "\n",
    "\"\"\"\n",
    "DON'T MODIFY ANYTHING IN THIS CELL THAT IS BELOW THIS LINE\n",
    "\"\"\"\n",
    "tests.test_output(output)"
   ]
  },
  {
   "cell_type": "markdown",
   "metadata": {},
   "source": [
    "### Create Convolutional Model\n",
    "Implement the function `conv_net` to create a convolutional neural network model. The function takes in a batch of images, `x`, and outputs logits.  Use the layers you created above to create this model:\n",
    "\n",
    "* Apply 1, 2, or 3 Convolution and Max Pool layers\n",
    "* Apply a Flatten Layer\n",
    "* Apply 1, 2, or 3 Fully Connected Layers\n",
    "* Apply an Output Layer\n",
    "* Return the output\n",
    "* Apply [TensorFlow's Dropout](https://www.tensorflow.org/api_docs/python/tf/nn/dropout) to one or more layers in the model using `keep_prob`. "
   ]
  },
  {
   "cell_type": "code",
   "execution_count": 26,
   "metadata": {},
   "outputs": [
    {
     "name": "stdout",
     "output_type": "stream",
     "text": [
      "Neural Network Built!\n"
     ]
    }
   ],
   "source": [
    "def conv_net(x, keep_prob):\n",
    "    \"\"\"\n",
    "    Create a convolutional neural network model\n",
    "    : x: Placeholder tensor that holds image data.\n",
    "    : keep_prob: Placeholder tensor that hold dropout keep probability.\n",
    "    : return: Tensor that represents logits\n",
    "    \"\"\"\n",
    "\n",
    "    # TODO: Apply 1, 2, or 3 Convolution and Max Pool layers\n",
    "    #    Play around with different number of outputs, kernel size and stride\n",
    "    # Function Definition from Above:\n",
    "    #    conv2d_maxpool(x_tensor, conv_num_outputs, conv_ksize, conv_strides, pool_ksize, pool_strides)\n",
    "\n",
    "    cv_outputs = [64, 32, 16]\n",
    "    \n",
    "    cv_ksize = [[5, 5],\n",
    "                [5, 5],\n",
    "                [5, 5]]\n",
    "\n",
    "    cv_strides = [[1, 1],\n",
    "                  [1, 1],\n",
    "                  [1, 1]]\n",
    "    \n",
    "    pool_ksize = [[3, 3],\n",
    "                  [3, 3],\n",
    "                  [3, 3]]\n",
    "    \n",
    "    pool_strides = [[2, 2],\n",
    "                    [2, 2],\n",
    "                    [2, 2]]\n",
    "    \n",
    "    res = x\n",
    "    for i in range(2):\n",
    "        res = conv2d_maxpool(res, \n",
    "                             cv_outputs[i], \n",
    "                             cv_ksize[i], \n",
    "                             cv_strides[i], \n",
    "                             pool_ksize[i], \n",
    "                             pool_strides[i])\n",
    "\n",
    "    # Apply a Flatten Layer\n",
    "    res = flatten(res)\n",
    "    \n",
    "    #Apply 1, 2, or 3 Fully Connected Layers\n",
    "    fc_outputs = [1000, 500, 250]\n",
    "    for i in range(2):\n",
    "        res = fully_conn(res, fc_outputs[i])\n",
    "        res = tf.nn.dropout(res, keep_prob)\n",
    "    \n",
    "    # Apply an Output Layer\n",
    "    res = output(res, MAX_LABELS)\n",
    "    \n",
    "    # TODO: return output\n",
    "    return res\n",
    "\n",
    "\n",
    "\"\"\"\n",
    "DON'T MODIFY ANYTHING IN THIS CELL THAT IS BELOW THIS LINE\n",
    "\"\"\"\n",
    "\n",
    "##############################\n",
    "## Build the Neural Network ##\n",
    "##############################\n",
    "\n",
    "# Remove previous weights, bias, inputs, etc..\n",
    "tf.reset_default_graph()\n",
    "\n",
    "# Inputs\n",
    "x = neural_net_image_input((32, 32, 3))\n",
    "y = neural_net_label_input(10)\n",
    "keep_prob = neural_net_keep_prob_input()\n",
    "\n",
    "# Model\n",
    "logits = conv_net(x, keep_prob)\n",
    "\n",
    "# Name logits Tensor, so that is can be loaded from disk after training\n",
    "logits = tf.identity(logits, name='logits')\n",
    "\n",
    "# Loss and Optimizer\n",
    "cost = tf.reduce_mean(tf.nn.softmax_cross_entropy_with_logits(logits=logits, labels=y))\n",
    "optimizer = tf.train.AdamOptimizer().minimize(cost)\n",
    "\n",
    "# Accuracy\n",
    "correct_pred = tf.equal(tf.argmax(logits, 1), tf.argmax(y, 1))\n",
    "accuracy = tf.reduce_mean(tf.cast(correct_pred, tf.float32), name='accuracy')\n",
    "\n",
    "tests.test_conv_net(conv_net)"
   ]
  },
  {
   "cell_type": "markdown",
   "metadata": {},
   "source": [
    "## Train the Neural Network\n",
    "### Single Optimization\n",
    "Implement the function `train_neural_network` to do a single optimization.  The optimization should use `optimizer` to optimize in `session` with a `feed_dict` of the following:\n",
    "* `x` for image input\n",
    "* `y` for labels\n",
    "* `keep_prob` for keep probability for dropout\n",
    "\n",
    "This function will be called for each batch, so `tf.global_variables_initializer()` has already been called.\n",
    "\n",
    "Note: Nothing needs to be returned. This function is only optimizing the neural network."
   ]
  },
  {
   "cell_type": "code",
   "execution_count": 27,
   "metadata": {},
   "outputs": [
    {
     "name": "stdout",
     "output_type": "stream",
     "text": [
      "Tests Passed\n"
     ]
    }
   ],
   "source": [
    "def train_neural_network(session, optimizer, keep_probability, feature_batch, label_batch):\n",
    "    \"\"\"\n",
    "    Optimize the session on a batch of images and labels\n",
    "    : session: Current TensorFlow session\n",
    "    : optimizer: TensorFlow optimizer function\n",
    "    : keep_probability: keep probability\n",
    "    : feature_batch: Batch of Numpy image data\n",
    "    : label_batch: Batch of Numpy label data\n",
    "    \"\"\"\n",
    "\n",
    "    session.run(optimizer, feed_dict={x: feature_batch,\n",
    "                                      y: label_batch,\n",
    "                                      keep_prob: keep_probability})\n",
    "\n",
    "\n",
    "\"\"\"\n",
    "DON'T MODIFY ANYTHING IN THIS CELL THAT IS BELOW THIS LINE\n",
    "\"\"\"\n",
    "tests.test_train_nn(train_neural_network)"
   ]
  },
  {
   "cell_type": "markdown",
   "metadata": {},
   "source": [
    "### Show Stats\n",
    "Implement the function `print_stats` to print loss and validation accuracy.  Use the global variables `valid_features` and `valid_labels` to calculate validation accuracy.  Use a keep probability of `1.0` to calculate the loss and validation accuracy."
   ]
  },
  {
   "cell_type": "code",
   "execution_count": 28,
   "metadata": {
    "collapsed": true
   },
   "outputs": [],
   "source": [
    "def print_stats(session, feature_batch, label_batch, cost, accuracy):\n",
    "    \"\"\"\n",
    "    Print information about loss and validation accuracy\n",
    "    : session: Current TensorFlow session\n",
    "    : feature_batch: Batch of Numpy image data\n",
    "    : label_batch: Batch of Numpy label data\n",
    "    : cost: TensorFlow cost function\n",
    "    : accuracy: TensorFlow accuracy function\n",
    "    \"\"\"\n",
    "    feeds = {\n",
    "        x: valid_features,\n",
    "        y: valid_labels,\n",
    "        keep_prob: 1.0\n",
    "    }\n",
    "    acc = session.run(accuracy, feed_dict=feeds)\n",
    "    \n",
    "    feeds = {\n",
    "        x: feature_batch,\n",
    "        y: label_batch,\n",
    "        keep_prob: 1.0\n",
    "    }\n",
    "    loss = session.run(cost, feed_dict=feeds)\n",
    "    \n",
    "    print(\"{} accuracy and {} loss on current batch\".format(acc, loss))\n"
   ]
  },
  {
   "cell_type": "markdown",
   "metadata": {},
   "source": [
    "### Hyperparameters\n",
    "Tune the following parameters:\n",
    "* Set `epochs` to the number of iterations until the network stops learning or start overfitting\n",
    "* Set `batch_size` to the highest number that your machine has memory for.  Most people set them to common sizes of memory:\n",
    " * 64\n",
    " * 128\n",
    " * 256\n",
    " * ...\n",
    "* Set `keep_probability` to the probability of keeping a node using dropout"
   ]
  },
  {
   "cell_type": "code",
   "execution_count": 29,
   "metadata": {
    "collapsed": true
   },
   "outputs": [],
   "source": [
    "# TODO: Tune Parameters\n",
    "epochs = 30\n",
    "batch_size = 1024\n",
    "keep_probability = 0.50"
   ]
  },
  {
   "cell_type": "markdown",
   "metadata": {},
   "source": [
    "### Train on a Single CIFAR-10 Batch\n",
    "Instead of training the neural network on all the CIFAR-10 batches of data, let's use a single batch. This should save time while you iterate on the model to get a better accuracy.  Once the final validation accuracy is 50% or greater, run the model on all the data in the next section."
   ]
  },
  {
   "cell_type": "code",
   "execution_count": 30,
   "metadata": {},
   "outputs": [
    {
     "name": "stdout",
     "output_type": "stream",
     "text": [
      "Checking the Training on a Single Batch...\n",
      "Epoch  1, CIFAR-10 Batch 1:  0.1833999752998352 accuracy and 2.16774320602417 loss on current batch\n",
      "Epoch  2, CIFAR-10 Batch 1:  0.3245999813079834 accuracy and 1.8787742853164673 loss on current batch\n",
      "Epoch  3, CIFAR-10 Batch 1:  0.3625999689102173 accuracy and 1.7549887895584106 loss on current batch\n",
      "Epoch  4, CIFAR-10 Batch 1:  0.42799997329711914 accuracy and 1.557694911956787 loss on current batch\n",
      "Epoch  5, CIFAR-10 Batch 1:  0.43299996852874756 accuracy and 1.5110993385314941 loss on current batch\n",
      "Epoch  6, CIFAR-10 Batch 1:  0.4851999580860138 accuracy and 1.370354175567627 loss on current batch\n",
      "Epoch  7, CIFAR-10 Batch 1:  0.49199995398521423 accuracy and 1.3010398149490356 loss on current batch\n",
      "Epoch  8, CIFAR-10 Batch 1:  0.4987999200820923 accuracy and 1.2584857940673828 loss on current batch\n",
      "Epoch  9, CIFAR-10 Batch 1:  0.5221999287605286 accuracy and 1.1727991104125977 loss on current batch\n",
      "Epoch 10, CIFAR-10 Batch 1:  0.5351998805999756 accuracy and 1.1112439632415771 loss on current batch\n",
      "Epoch 11, CIFAR-10 Batch 1:  0.5443999767303467 accuracy and 1.0756068229675293 loss on current batch\n",
      "Epoch 12, CIFAR-10 Batch 1:  0.5663999319076538 accuracy and 0.9733656048774719 loss on current batch\n",
      "Epoch 13, CIFAR-10 Batch 1:  0.56659996509552 accuracy and 0.9247333407402039 loss on current batch\n",
      "Epoch 14, CIFAR-10 Batch 1:  0.5821999311447144 accuracy and 0.8550358414649963 loss on current batch\n",
      "Epoch 15, CIFAR-10 Batch 1:  0.577799916267395 accuracy and 0.8473228812217712 loss on current batch\n",
      "Epoch 16, CIFAR-10 Batch 1:  0.5761998891830444 accuracy and 0.7904130220413208 loss on current batch\n",
      "Epoch 17, CIFAR-10 Batch 1:  0.5637999176979065 accuracy and 0.8093476891517639 loss on current batch\n",
      "Epoch 18, CIFAR-10 Batch 1:  0.5969999432563782 accuracy and 0.6872934103012085 loss on current batch\n",
      "Epoch 19, CIFAR-10 Batch 1:  0.6081998944282532 accuracy and 0.6049124598503113 loss on current batch\n",
      "Epoch 20, CIFAR-10 Batch 1:  0.6041998863220215 accuracy and 0.5744137167930603 loss on current batch\n",
      "Epoch 21, CIFAR-10 Batch 1:  0.6115999221801758 accuracy and 0.5121749639511108 loss on current batch\n",
      "Epoch 22, CIFAR-10 Batch 1:  0.6165999174118042 accuracy and 0.4890296161174774 loss on current batch\n",
      "Epoch 23, CIFAR-10 Batch 1:  0.6055998802185059 accuracy and 0.4727458953857422 loss on current batch\n",
      "Epoch 24, CIFAR-10 Batch 1:  0.6105998754501343 accuracy and 0.4131648540496826 loss on current batch\n",
      "Epoch 25, CIFAR-10 Batch 1:  0.6209998726844788 accuracy and 0.3578086197376251 loss on current batch\n",
      "Epoch 26, CIFAR-10 Batch 1:  0.622999906539917 accuracy and 0.34464436769485474 loss on current batch\n",
      "Epoch 27, CIFAR-10 Batch 1:  0.6163998246192932 accuracy and 0.3139362633228302 loss on current batch\n",
      "Epoch 28, CIFAR-10 Batch 1:  0.6115999221801758 accuracy and 0.27721112966537476 loss on current batch\n",
      "Epoch 29, CIFAR-10 Batch 1:  0.6237999200820923 accuracy and 0.22448857128620148 loss on current batch\n",
      "Epoch 30, CIFAR-10 Batch 1:  0.6057998538017273 accuracy and 0.23785147070884705 loss on current batch\n"
     ]
    }
   ],
   "source": [
    "\"\"\"\n",
    "DON'T MODIFY ANYTHING IN THIS CELL\n",
    "\"\"\"\n",
    "print('Checking the Training on a Single Batch...')\n",
    "with tf.Session() as sess:\n",
    "    # Initializing the variables\n",
    "    sess.run(tf.global_variables_initializer())\n",
    "    \n",
    "    # Training cycle\n",
    "    for epoch in range(epochs):\n",
    "        batch_i = 1\n",
    "        for batch_features, batch_labels in helper.load_preprocess_training_batch(batch_i, batch_size):\n",
    "            train_neural_network(sess, optimizer, keep_probability, batch_features, batch_labels)\n",
    "        print('Epoch {:>2}, CIFAR-10 Batch {}:  '.format(epoch + 1, batch_i), end='')\n",
    "        print_stats(sess, batch_features, batch_labels, cost, accuracy)"
   ]
  },
  {
   "cell_type": "markdown",
   "metadata": {},
   "source": [
    "### Fully Train the Model\n",
    "Now that you got a good accuracy with a single CIFAR-10 batch, try it with all five batches."
   ]
  },
  {
   "cell_type": "code",
   "execution_count": 31,
   "metadata": {
    "scrolled": false
   },
   "outputs": [
    {
     "name": "stdout",
     "output_type": "stream",
     "text": [
      "Training...\n",
      "Epoch  1, CIFAR-10 Batch 1:  0.26479998230934143 accuracy and 2.0029830932617188 loss on current batch\n",
      "Epoch  1, CIFAR-10 Batch 2:  0.3601999580860138 accuracy and 1.743375301361084 loss on current batch\n",
      "Epoch  1, CIFAR-10 Batch 3:  0.4033999741077423 accuracy and 1.5578010082244873 loss on current batch\n",
      "Epoch  1, CIFAR-10 Batch 4:  0.434999942779541 accuracy and 1.5267236232757568 loss on current batch\n",
      "Epoch  1, CIFAR-10 Batch 5:  0.44099995493888855 accuracy and 1.4847004413604736 loss on current batch\n",
      "Epoch  2, CIFAR-10 Batch 1:  0.4755999445915222 accuracy and 1.3984861373901367 loss on current batch\n",
      "Epoch  2, CIFAR-10 Batch 2:  0.4981999695301056 accuracy and 1.385361671447754 loss on current batch\n",
      "Epoch  2, CIFAR-10 Batch 3:  0.5121999979019165 accuracy and 1.2592859268188477 loss on current batch\n",
      "Epoch  2, CIFAR-10 Batch 4:  0.5153999328613281 accuracy and 1.2699732780456543 loss on current batch\n",
      "Epoch  2, CIFAR-10 Batch 5:  0.5307998657226562 accuracy and 1.2327648401260376 loss on current batch\n",
      "Epoch  3, CIFAR-10 Batch 1:  0.5549999475479126 accuracy and 1.1897865533828735 loss on current batch\n",
      "Epoch  3, CIFAR-10 Batch 2:  0.5543999075889587 accuracy and 1.2007025480270386 loss on current batch\n",
      "Epoch  3, CIFAR-10 Batch 3:  0.5709998607635498 accuracy and 1.078909993171692 loss on current batch\n",
      "Epoch  3, CIFAR-10 Batch 4:  0.5801998972892761 accuracy and 1.0747851133346558 loss on current batch\n",
      "Epoch  3, CIFAR-10 Batch 5:  0.5827999114990234 accuracy and 1.0673940181732178 loss on current batch\n",
      "Epoch  4, CIFAR-10 Batch 1:  0.5989999771118164 accuracy and 1.0389946699142456 loss on current batch\n",
      "Epoch  4, CIFAR-10 Batch 2:  0.5659999251365662 accuracy and 1.1262617111206055 loss on current batch\n",
      "Epoch  4, CIFAR-10 Batch 3:  0.5813999176025391 accuracy and 1.0362329483032227 loss on current batch\n",
      "Epoch  4, CIFAR-10 Batch 4:  0.5963999032974243 accuracy and 1.0127906799316406 loss on current batch\n",
      "Epoch  4, CIFAR-10 Batch 5:  0.6205999851226807 accuracy and 0.9537887573242188 loss on current batch\n",
      "Epoch  5, CIFAR-10 Batch 1:  0.6315999031066895 accuracy and 0.9471163153648376 loss on current batch\n",
      "Epoch  5, CIFAR-10 Batch 2:  0.6323999166488647 accuracy and 0.943975567817688 loss on current batch\n",
      "Epoch  5, CIFAR-10 Batch 3:  0.6361998915672302 accuracy and 0.9049481153488159 loss on current batch\n",
      "Epoch  5, CIFAR-10 Batch 4:  0.6495999097824097 accuracy and 0.8343921899795532 loss on current batch\n",
      "Epoch  5, CIFAR-10 Batch 5:  0.6553999185562134 accuracy and 0.826281726360321 loss on current batch\n",
      "Epoch  6, CIFAR-10 Batch 1:  0.6467999219894409 accuracy and 0.8573840856552124 loss on current batch\n",
      "Epoch  6, CIFAR-10 Batch 2:  0.6329998970031738 accuracy and 0.9144892692565918 loss on current batch\n",
      "Epoch  6, CIFAR-10 Batch 3:  0.6447998881340027 accuracy and 0.8492333889007568 loss on current batch\n",
      "Epoch  6, CIFAR-10 Batch 4:  0.6697998642921448 accuracy and 0.7730937004089355 loss on current batch\n",
      "Epoch  6, CIFAR-10 Batch 5:  0.6693998575210571 accuracy and 0.7510443329811096 loss on current batch\n",
      "Epoch  7, CIFAR-10 Batch 1:  0.679999828338623 accuracy and 0.7488675713539124 loss on current batch\n",
      "Epoch  7, CIFAR-10 Batch 2:  0.6673998832702637 accuracy and 0.7891774773597717 loss on current batch\n",
      "Epoch  7, CIFAR-10 Batch 3:  0.650399923324585 accuracy and 0.8220106363296509 loss on current batch\n",
      "Epoch  7, CIFAR-10 Batch 4:  0.6863998770713806 accuracy and 0.7104455828666687 loss on current batch\n",
      "Epoch  7, CIFAR-10 Batch 5:  0.6815998554229736 accuracy and 0.6757974624633789 loss on current batch\n",
      "Epoch  8, CIFAR-10 Batch 1:  0.6889998316764832 accuracy and 0.6888152956962585 loss on current batch\n",
      "Epoch  8, CIFAR-10 Batch 2:  0.6899998188018799 accuracy and 0.7238824963569641 loss on current batch\n",
      "Epoch  8, CIFAR-10 Batch 3:  0.6845998764038086 accuracy and 0.7126411199569702 loss on current batch\n",
      "Epoch  8, CIFAR-10 Batch 4:  0.6827998161315918 accuracy and 0.6666772961616516 loss on current batch\n",
      "Epoch  8, CIFAR-10 Batch 5:  0.6909998655319214 accuracy and 0.6322236657142639 loss on current batch\n",
      "Epoch  9, CIFAR-10 Batch 1:  0.6879998445510864 accuracy and 0.6675657629966736 loss on current batch\n",
      "Epoch  9, CIFAR-10 Batch 2:  0.6919999122619629 accuracy and 0.7065918445587158 loss on current batch\n",
      "Epoch  9, CIFAR-10 Batch 3:  0.6935998201370239 accuracy and 0.6509243845939636 loss on current batch\n",
      "Epoch  9, CIFAR-10 Batch 4:  0.6965999007225037 accuracy and 0.6181045770645142 loss on current batch\n",
      "Epoch  9, CIFAR-10 Batch 5:  0.6997998952865601 accuracy and 0.5802626609802246 loss on current batch\n",
      "Epoch 10, CIFAR-10 Batch 1:  0.6939998269081116 accuracy and 0.5932267904281616 loss on current batch\n",
      "Epoch 10, CIFAR-10 Batch 2:  0.7075998187065125 accuracy and 0.6063902378082275 loss on current batch\n",
      "Epoch 10, CIFAR-10 Batch 3:  0.7049998641014099 accuracy and 0.5904902219772339 loss on current batch\n",
      "Epoch 10, CIFAR-10 Batch 4:  0.7079998850822449 accuracy and 0.5457553863525391 loss on current batch\n",
      "Epoch 10, CIFAR-10 Batch 5:  0.7105998396873474 accuracy and 0.5167021155357361 loss on current batch\n",
      "Epoch 11, CIFAR-10 Batch 1:  0.7095998525619507 accuracy and 0.5262283682823181 loss on current batch\n",
      "Epoch 11, CIFAR-10 Batch 2:  0.7119998931884766 accuracy and 0.5679637789726257 loss on current batch\n",
      "Epoch 11, CIFAR-10 Batch 3:  0.7131998538970947 accuracy and 0.5568459630012512 loss on current batch\n",
      "Epoch 11, CIFAR-10 Batch 4:  0.7209998369216919 accuracy and 0.47685930132865906 loss on current batch\n",
      "Epoch 11, CIFAR-10 Batch 5:  0.7059998512268066 accuracy and 0.4847946763038635 loss on current batch\n",
      "Epoch 12, CIFAR-10 Batch 1:  0.7139999270439148 accuracy and 0.4672973155975342 loss on current batch\n",
      "Epoch 12, CIFAR-10 Batch 2:  0.7003998160362244 accuracy and 0.5499621033668518 loss on current batch\n",
      "Epoch 12, CIFAR-10 Batch 3:  0.7163997888565063 accuracy and 0.524549663066864 loss on current batch\n",
      "Epoch 12, CIFAR-10 Batch 4:  0.7207998633384705 accuracy and 0.4447285532951355 loss on current batch\n",
      "Epoch 12, CIFAR-10 Batch 5:  0.7229998707771301 accuracy and 0.41272544860839844 loss on current batch\n",
      "Epoch 13, CIFAR-10 Batch 1:  0.7233998775482178 accuracy and 0.42691823840141296 loss on current batch\n",
      "Epoch 13, CIFAR-10 Batch 2:  0.718799889087677 accuracy and 0.44186633825302124 loss on current batch\n",
      "Epoch 13, CIFAR-10 Batch 3:  0.7237998247146606 accuracy and 0.4739137291908264 loss on current batch\n",
      "Epoch 13, CIFAR-10 Batch 4:  0.7261998653411865 accuracy and 0.39194515347480774 loss on current batch\n",
      "Epoch 13, CIFAR-10 Batch 5:  0.7113998532295227 accuracy and 0.4041507840156555 loss on current batch\n",
      "Epoch 14, CIFAR-10 Batch 1:  0.7325999140739441 accuracy and 0.3980100750923157 loss on current batch\n",
      "Epoch 14, CIFAR-10 Batch 2:  0.7259998917579651 accuracy and 0.41059643030166626 loss on current batch\n",
      "Epoch 14, CIFAR-10 Batch 3:  0.7283998727798462 accuracy and 0.4165043234825134 loss on current batch\n",
      "Epoch 14, CIFAR-10 Batch 4:  0.7157998085021973 accuracy and 0.39628836512565613 loss on current batch\n",
      "Epoch 14, CIFAR-10 Batch 5:  0.7287998199462891 accuracy and 0.35272297263145447 loss on current batch\n",
      "Epoch 15, CIFAR-10 Batch 1:  0.739599883556366 accuracy and 0.36570560932159424 loss on current batch\n",
      "Epoch 15, CIFAR-10 Batch 2:  0.7175998687744141 accuracy and 0.3932090699672699 loss on current batch\n",
      "Epoch 15, CIFAR-10 Batch 3:  0.7213998436927795 accuracy and 0.3935510516166687 loss on current batch\n",
      "Epoch 15, CIFAR-10 Batch 4:  0.7231999039649963 accuracy and 0.3190499246120453 loss on current batch\n",
      "Epoch 15, CIFAR-10 Batch 5:  0.7301998138427734 accuracy and 0.3064347803592682 loss on current batch\n",
      "Epoch 16, CIFAR-10 Batch 1:  0.7277998328208923 accuracy and 0.3345027565956116 loss on current batch\n",
      "Epoch 16, CIFAR-10 Batch 2:  0.7225998640060425 accuracy and 0.34097820520401 loss on current batch\n",
      "Epoch 16, CIFAR-10 Batch 3:  0.7097998261451721 accuracy and 0.3773760199546814 loss on current batch\n",
      "Epoch 16, CIFAR-10 Batch 4:  0.7309998273849487 accuracy and 0.2916751801967621 loss on current batch\n",
      "Epoch 16, CIFAR-10 Batch 5:  0.734799861907959 accuracy and 0.2930614948272705 loss on current batch\n"
     ]
    },
    {
     "name": "stdout",
     "output_type": "stream",
     "text": [
      "Epoch 17, CIFAR-10 Batch 1:  0.7303997874259949 accuracy and 0.3069360554218292 loss on current batch\n",
      "Epoch 17, CIFAR-10 Batch 2:  0.7167998552322388 accuracy and 0.33507198095321655 loss on current batch\n",
      "Epoch 17, CIFAR-10 Batch 3:  0.708599865436554 accuracy and 0.3519807457923889 loss on current batch\n",
      "Epoch 17, CIFAR-10 Batch 4:  0.7379997968673706 accuracy and 0.26015758514404297 loss on current batch\n",
      "Epoch 17, CIFAR-10 Batch 5:  0.7363998293876648 accuracy and 0.24969404935836792 loss on current batch\n",
      "Epoch 18, CIFAR-10 Batch 1:  0.729999840259552 accuracy and 0.2770099639892578 loss on current batch\n",
      "Epoch 18, CIFAR-10 Batch 2:  0.7187998294830322 accuracy and 0.2956646680831909 loss on current batch\n",
      "Epoch 18, CIFAR-10 Batch 3:  0.7127999067306519 accuracy and 0.3056561052799225 loss on current batch\n",
      "Epoch 18, CIFAR-10 Batch 4:  0.7387998104095459 accuracy and 0.24116231501102448 loss on current batch\n",
      "Epoch 18, CIFAR-10 Batch 5:  0.7375999093055725 accuracy and 0.2277851402759552 loss on current batch\n",
      "Epoch 19, CIFAR-10 Batch 1:  0.7387998104095459 accuracy and 0.24053005874156952 loss on current batch\n",
      "Epoch 19, CIFAR-10 Batch 2:  0.7353999018669128 accuracy and 0.2519313097000122 loss on current batch\n",
      "Epoch 19, CIFAR-10 Batch 3:  0.7189998030662537 accuracy and 0.2739414572715759 loss on current batch\n",
      "Epoch 19, CIFAR-10 Batch 4:  0.7343998551368713 accuracy and 0.24239422380924225 loss on current batch\n",
      "Epoch 19, CIFAR-10 Batch 5:  0.7361998558044434 accuracy and 0.22627337276935577 loss on current batch\n",
      "Epoch 20, CIFAR-10 Batch 1:  0.7357999086380005 accuracy and 0.22600412368774414 loss on current batch\n",
      "Epoch 20, CIFAR-10 Batch 2:  0.7241998910903931 accuracy and 0.24249684810638428 loss on current batch\n",
      "Epoch 20, CIFAR-10 Batch 3:  0.7215998768806458 accuracy and 0.2346794754266739 loss on current batch\n",
      "Epoch 20, CIFAR-10 Batch 4:  0.7111998796463013 accuracy and 0.2445490062236786 loss on current batch\n",
      "Epoch 20, CIFAR-10 Batch 5:  0.7249999046325684 accuracy and 0.18869102001190186 loss on current batch\n",
      "Epoch 21, CIFAR-10 Batch 1:  0.7415998578071594 accuracy and 0.20531299710273743 loss on current batch\n",
      "Epoch 21, CIFAR-10 Batch 2:  0.7273998856544495 accuracy and 0.21614280343055725 loss on current batch\n",
      "Epoch 21, CIFAR-10 Batch 3:  0.7027997970581055 accuracy and 0.2253986895084381 loss on current batch\n",
      "Epoch 21, CIFAR-10 Batch 4:  0.729999840259552 accuracy and 0.202962726354599 loss on current batch\n",
      "Epoch 21, CIFAR-10 Batch 5:  0.7267997860908508 accuracy and 0.19467201828956604 loss on current batch\n",
      "Epoch 22, CIFAR-10 Batch 1:  0.7411998510360718 accuracy and 0.17383459210395813 loss on current batch\n",
      "Epoch 22, CIFAR-10 Batch 2:  0.7315998673439026 accuracy and 0.17172595858573914 loss on current batch\n",
      "Epoch 22, CIFAR-10 Batch 3:  0.720599889755249 accuracy and 0.1622326672077179 loss on current batch\n",
      "Epoch 22, CIFAR-10 Batch 4:  0.7349998950958252 accuracy and 0.16986103355884552 loss on current batch\n",
      "Epoch 22, CIFAR-10 Batch 5:  0.7279998660087585 accuracy and 0.14935961365699768 loss on current batch\n",
      "Epoch 23, CIFAR-10 Batch 1:  0.7397997975349426 accuracy and 0.18048003315925598 loss on current batch\n",
      "Epoch 23, CIFAR-10 Batch 2:  0.7335999011993408 accuracy and 0.15734995901584625 loss on current batch\n",
      "Epoch 23, CIFAR-10 Batch 3:  0.7313998937606812 accuracy and 0.14754348993301392 loss on current batch\n",
      "Epoch 23, CIFAR-10 Batch 4:  0.7365998029708862 accuracy and 0.14205969870090485 loss on current batch\n",
      "Epoch 23, CIFAR-10 Batch 5:  0.7343998551368713 accuracy and 0.1277475208044052 loss on current batch\n",
      "Epoch 24, CIFAR-10 Batch 1:  0.7321998476982117 accuracy and 0.16785667836666107 loss on current batch\n",
      "Epoch 24, CIFAR-10 Batch 2:  0.7265998125076294 accuracy and 0.15878695249557495 loss on current batch\n",
      "Epoch 24, CIFAR-10 Batch 3:  0.725199818611145 accuracy and 0.13525976240634918 loss on current batch\n",
      "Epoch 24, CIFAR-10 Batch 4:  0.7197998762130737 accuracy and 0.18862420320510864 loss on current batch\n",
      "Epoch 24, CIFAR-10 Batch 5:  0.7179998159408569 accuracy and 0.1622224897146225 loss on current batch\n",
      "Epoch 25, CIFAR-10 Batch 1:  0.7361998558044434 accuracy and 0.14470291137695312 loss on current batch\n",
      "Epoch 25, CIFAR-10 Batch 2:  0.7351998090744019 accuracy and 0.13498729467391968 loss on current batch\n",
      "Epoch 25, CIFAR-10 Batch 3:  0.725199818611145 accuracy and 0.1317507028579712 loss on current batch\n",
      "Epoch 25, CIFAR-10 Batch 4:  0.7273998260498047 accuracy and 0.12514832615852356 loss on current batch\n",
      "Epoch 25, CIFAR-10 Batch 5:  0.7333998084068298 accuracy and 0.10015687346458435 loss on current batch\n",
      "Epoch 26, CIFAR-10 Batch 1:  0.7407997846603394 accuracy and 0.13260045647621155 loss on current batch\n",
      "Epoch 26, CIFAR-10 Batch 2:  0.7223999500274658 accuracy and 0.1330864131450653 loss on current batch\n",
      "Epoch 26, CIFAR-10 Batch 3:  0.7339998483657837 accuracy and 0.10181877017021179 loss on current batch\n",
      "Epoch 26, CIFAR-10 Batch 4:  0.7247998118400574 accuracy and 0.10843437910079956 loss on current batch\n",
      "Epoch 26, CIFAR-10 Batch 5:  0.7209998369216919 accuracy and 0.08685644716024399 loss on current batch\n",
      "Epoch 27, CIFAR-10 Batch 1:  0.7465998530387878 accuracy and 0.10905181616544724 loss on current batch\n",
      "Epoch 27, CIFAR-10 Batch 2:  0.7331997752189636 accuracy and 0.11487709730863571 loss on current batch\n",
      "Epoch 27, CIFAR-10 Batch 3:  0.7261998653411865 accuracy and 0.108639195561409 loss on current batch\n",
      "Epoch 27, CIFAR-10 Batch 4:  0.7345998287200928 accuracy and 0.0933176800608635 loss on current batch\n",
      "Epoch 27, CIFAR-10 Batch 5:  0.7301998734474182 accuracy and 0.09202228486537933 loss on current batch\n",
      "Epoch 28, CIFAR-10 Batch 1:  0.7373998165130615 accuracy and 0.09393676370382309 loss on current batch\n",
      "Epoch 28, CIFAR-10 Batch 2:  0.7287998199462891 accuracy and 0.08732655644416809 loss on current batch\n",
      "Epoch 28, CIFAR-10 Batch 3:  0.7261999249458313 accuracy and 0.091070257127285 loss on current batch\n",
      "Epoch 28, CIFAR-10 Batch 4:  0.7221997976303101 accuracy and 0.09559992700815201 loss on current batch\n",
      "Epoch 28, CIFAR-10 Batch 5:  0.7363998889923096 accuracy and 0.07434161007404327 loss on current batch\n",
      "Epoch 29, CIFAR-10 Batch 1:  0.7441998720169067 accuracy and 0.07835126668214798 loss on current batch\n",
      "Epoch 29, CIFAR-10 Batch 2:  0.7261998653411865 accuracy and 0.08215527981519699 loss on current batch\n",
      "Epoch 29, CIFAR-10 Batch 3:  0.7391998767852783 accuracy and 0.0773300901055336 loss on current batch\n",
      "Epoch 29, CIFAR-10 Batch 4:  0.7359998822212219 accuracy and 0.06616421043872833 loss on current batch\n",
      "Epoch 29, CIFAR-10 Batch 5:  0.7307998538017273 accuracy and 0.06470302492380142 loss on current batch\n",
      "Epoch 30, CIFAR-10 Batch 1:  0.7455998659133911 accuracy and 0.0627230703830719 loss on current batch\n",
      "Epoch 30, CIFAR-10 Batch 2:  0.7361998558044434 accuracy and 0.07830508798360825 loss on current batch\n",
      "Epoch 30, CIFAR-10 Batch 3:  0.7311998605728149 accuracy and 0.06283329427242279 loss on current batch\n",
      "Epoch 30, CIFAR-10 Batch 4:  0.7259998917579651 accuracy and 0.057774923741817474 loss on current batch\n",
      "Epoch 30, CIFAR-10 Batch 5:  0.725399911403656 accuracy and 0.05058208480477333 loss on current batch\n"
     ]
    }
   ],
   "source": [
    "\"\"\"\n",
    "DON'T MODIFY ANYTHING IN THIS CELL\n",
    "\"\"\"\n",
    "save_model_path = './image_classification'\n",
    "\n",
    "print('Training...')\n",
    "with tf.Session() as sess:\n",
    "    # Initializing the variables\n",
    "    sess.run(tf.global_variables_initializer())\n",
    "    \n",
    "    # Training cycle\n",
    "    for epoch in range(epochs):\n",
    "        # Loop over all batches\n",
    "        n_batches = 5\n",
    "        for batch_i in range(1, n_batches + 1):\n",
    "            for batch_features, batch_labels in helper.load_preprocess_training_batch(batch_i, batch_size):\n",
    "                train_neural_network(sess, optimizer, keep_probability, batch_features, batch_labels)\n",
    "            print('Epoch {:>2}, CIFAR-10 Batch {}:  '.format(epoch + 1, batch_i), end='')\n",
    "            print_stats(sess, batch_features, batch_labels, cost, accuracy)\n",
    "            \n",
    "    # Save Model\n",
    "    saver = tf.train.Saver()\n",
    "    save_path = saver.save(sess, save_model_path)"
   ]
  },
  {
   "cell_type": "markdown",
   "metadata": {},
   "source": [
    "# Checkpoint\n",
    "The model has been saved to disk.\n",
    "## Test Model\n",
    "Test your model against the test dataset.  This will be your final accuracy. You should have an accuracy greater than 50%. If you don't, keep tweaking the model architecture and parameters."
   ]
  },
  {
   "cell_type": "code",
   "execution_count": 32,
   "metadata": {},
   "outputs": [
    {
     "name": "stdout",
     "output_type": "stream",
     "text": [
      "Testing Accuracy: 0.7205257475376129\n",
      "\n"
     ]
    },
    {
     "data": {
      "image/png": "[encoded data removed]",
      "text/plain": [
       "<matplotlib.figure.Figure at 0x7f3de4090128>"
      ]
     },
     "metadata": {
      "image/png": {
       "height": 319,
       "width": 355
      }
     },
     "output_type": "display_data"
    }
   ],
   "source": [
    "\"\"\"\n",
    "DON'T MODIFY ANYTHING IN THIS CELL\n",
    "\"\"\"\n",
    "%matplotlib inline\n",
    "%config InlineBackend.figure_format = 'retina'\n",
    "\n",
    "import tensorflow as tf\n",
    "import pickle\n",
    "import helper\n",
    "import random\n",
    "\n",
    "# Set batch size if not already set\n",
    "try:\n",
    "    if batch_size:\n",
    "        pass\n",
    "except NameError:\n",
    "    batch_size = 64\n",
    "\n",
    "save_model_path = './image_classification'\n",
    "n_samples = 4\n",
    "top_n_predictions = 3\n",
    "\n",
    "def test_model():\n",
    "    \"\"\"\n",
    "    Test the saved model against the test dataset\n",
    "    \"\"\"\n",
    "\n",
    "    test_features, test_labels = pickle.load(open('preprocess_test.p', mode='rb'))\n",
    "    loaded_graph = tf.Graph()\n",
    "\n",
    "    with tf.Session(graph=loaded_graph) as sess:\n",
    "        # Load model\n",
    "        loader = tf.train.import_meta_graph(save_model_path + '.meta')\n",
    "        loader.restore(sess, save_model_path)\n",
    "\n",
    "        # Get Tensors from loaded model\n",
    "        loaded_x = loaded_graph.get_tensor_by_name('x:0')\n",
    "        loaded_y = loaded_graph.get_tensor_by_name('y:0')\n",
    "        loaded_keep_prob = loaded_graph.get_tensor_by_name('keep_prob:0')\n",
    "        loaded_logits = loaded_graph.get_tensor_by_name('logits:0')\n",
    "        loaded_acc = loaded_graph.get_tensor_by_name('accuracy:0')\n",
    "        \n",
    "        # Get accuracy in batches for memory limitations\n",
    "        test_batch_acc_total = 0\n",
    "        test_batch_count = 0\n",
    "        \n",
    "        for test_feature_batch, test_label_batch in helper.batch_features_labels(test_features, test_labels, batch_size):\n",
    "            test_batch_acc_total += sess.run(\n",
    "                loaded_acc,\n",
    "                feed_dict={loaded_x: test_feature_batch, loaded_y: test_label_batch, loaded_keep_prob: 1.0})\n",
    "            test_batch_count += 1\n",
    "\n",
    "        print('Testing Accuracy: {}\\n'.format(test_batch_acc_total/test_batch_count))\n",
    "\n",
    "        # Print Random Samples\n",
    "        random_test_features, random_test_labels = tuple(zip(*random.sample(list(zip(test_features, test_labels)), n_samples)))\n",
    "        random_test_predictions = sess.run(\n",
    "            tf.nn.top_k(tf.nn.softmax(loaded_logits), top_n_predictions),\n",
    "            feed_dict={loaded_x: random_test_features, loaded_y: random_test_labels, loaded_keep_prob: 1.0})\n",
    "        helper.display_image_predictions(random_test_features, random_test_labels, random_test_predictions)\n",
    "\n",
    "\n",
    "test_model()"
   ]
  },
  {
   "cell_type": "markdown",
   "metadata": {},
   "source": [
    "## Why 50-80% Accuracy?\n",
    "You might be wondering why you can't get an accuracy any higher. First things first, 50% isn't bad for a simple CNN.  Pure guessing would get you 10% accuracy. However, you might notice people are getting scores [well above 80%](http://rodrigob.github.io/are_we_there_yet/build/classification_datasets_results.html#43494641522d3130).  That's because we haven't taught you all there is to know about neural networks. We still need to cover a few more techniques.\n",
    "## Submitting This Project\n",
    "When submitting this project, make sure to run all the cells before saving the notebook.  Save the notebook file as \"dlnd_image_classification.ipynb\" and save it as a HTML file under \"File\" -> \"Download as\".  Include the \"helper.py\" and \"problem_unittests.py\" files in your submission."
   ]
  }
 ],
 "metadata": {
  "kernelspec": {
   "display_name": "Python 3",
   "language": "python",
   "name": "python3"
  },
  "language_info": {
   "codemirror_mode": {
    "name": "ipython",
    "version": 3
   },
   "file_extension": ".py",
   "mimetype": "text/x-python",
   "name": "python",
   "nbconvert_exporter": "python",
   "pygments_lexer": "ipython3",
   "version": "3.5.3"
  }
 },
 "nbformat": 4,
 "nbformat_minor": 1
}
